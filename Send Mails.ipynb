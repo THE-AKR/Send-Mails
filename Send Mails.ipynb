{
 "cells": [
  {
   "cell_type": "code",
   "execution_count": 1,
   "id": "620853d7",
   "metadata": {},
   "outputs": [],
   "source": [
    "import smtplib as ss"
   ]
  },
  {
   "cell_type": "code",
   "execution_count": null,
   "id": "5021e81e",
   "metadata": {},
   "outputs": [],
   "source": [
    "email= input(\"enter your email id: \")\n",
    "print(email)"
   ]
  },
  {
   "cell_type": "code",
   "execution_count": null,
   "id": "5e2b52a6",
   "metadata": {},
   "outputs": [],
   "source": [
    "passw= input(\"your password\")\n",
    "print(passw)"
   ]
  },
  {
   "cell_type": "code",
   "execution_count": null,
   "id": "54000373",
   "metadata": {},
   "outputs": [],
   "source": [
    "recievers_email= input(\"Enter recievers email: \")\n",
    "print(recievers_email)"
   ]
  },
  {
   "cell_type": "code",
   "execution_count": null,
   "id": "220b5e78",
   "metadata": {},
   "outputs": [],
   "source": [
    "server = ss.SMTP(\"smtp.gmail.com\",'587')"
   ]
  },
  {
   "cell_type": "code",
   "execution_count": null,
   "id": "ed4db208",
   "metadata": {},
   "outputs": [],
   "source": [
    "server.starttls()"
   ]
  },
  {
   "cell_type": "code",
   "execution_count": null,
   "id": "68ef7aaf",
   "metadata": {},
   "outputs": [],
   "source": [
    "server.login(email,passw)\n",
    "msg =\"HELLO World \""
   ]
  },
  {
   "cell_type": "code",
   "execution_count": null,
   "id": "b81bc677",
   "metadata": {},
   "outputs": [],
   "source": [
    "server.sendmail(email,recievers_email ,msg)\n",
    "server.quit()"
   ]
  }
 ],
 "metadata": {
  "kernelspec": {
   "display_name": "Python 3",
   "language": "python",
   "name": "python3"
  },
  "language_info": {
   "codemirror_mode": {
    "name": "ipython",
    "version": 3
   },
   "file_extension": ".py",
   "mimetype": "text/x-python",
   "name": "python",
   "nbconvert_exporter": "python",
   "pygments_lexer": "ipython3",
   "version": "3.8.8"
  }
 },
 "nbformat": 4,
 "nbformat_minor": 5
}
